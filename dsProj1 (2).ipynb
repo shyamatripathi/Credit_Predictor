{
 "cells": [
  {
   "cell_type": "code",
   "execution_count": 1,
   "id": "79cf6823-d1d7-4f89-baa5-2c09471c2684",
   "metadata": {},
   "outputs": [
    {
     "name": "stderr",
     "output_type": "stream",
     "text": [
      "C:\\Users\\shyam\\AppData\\Local\\Temp\\ipykernel_7088\\1462566207.py:7: DtypeWarning: Columns (26) have mixed types. Specify dtype option on import or set low_memory=False.\n",
      "  train_df = pd.read_csv(\"Downloads/archive (1)/train.csv\")\n"
     ]
    },
    {
     "name": "stdout",
     "output_type": "stream",
     "text": [
      "Standard    22714\n",
      "Poor        12386\n",
      "Good         7402\n",
      "Name: count, dtype: int64\n",
      "✅ Model and scaler saved successfully!\n"
     ]
    }
   ],
   "source": [
    "import pandas as pd\n",
    "from sklearn.ensemble import RandomForestClassifier\n",
    "from sklearn.preprocessing import StandardScaler\n",
    "import joblib\n",
    "\n",
    "# Load datasets\n",
    "train_df = pd.read_csv(\"Downloads/archive (1)/train.csv\")\n",
    "test_df = pd.read_csv(\"Downloads/archive (1)/test.csv\")\n",
    "\n",
    "# Select relevant numeric features and target\n",
    "features = [\n",
    "    'Annual_Income',\n",
    "    'Monthly_Inhand_Salary',\n",
    "    'Num_Bank_Accounts',\n",
    "    'Outstanding_Debt',\n",
    "    'Credit_Utilization_Ratio'\n",
    "]\n",
    "target = 'Credit_Score'\n",
    "\n",
    "# Clean feature columns (remove non-numeric characters)\n",
    "for col in features:\n",
    "    train_df[col] = pd.to_numeric(train_df[col].astype(str).str.replace('[^0-9.]', '', regex=True), errors='coerce')\n",
    "    test_df[col] = pd.to_numeric(test_df[col].astype(str).str.replace('[^0-9.]', '', regex=True), errors='coerce')\n",
    "\n",
    "# Drop rows with missing values\n",
    "X_train = train_df[features].dropna()\n",
    "y_train = train_df.loc[X_train.index, target]\n",
    "\n",
    "X_test = test_df[features].dropna()\n",
    "y_test = test_df.loc[X_test.index, target] if target in test_df.columns else None\n",
    "\n",
    "# Scale the numeric features\n",
    "scaler = StandardScaler()\n",
    "X_train_scaled = scaler.fit_transform(X_train)\n",
    "X_test_scaled = scaler.transform(X_test)\n",
    "\n",
    "# Train the model\n",
    "model = RandomForestClassifier(random_state=42, class_weight=\"balanced\")\n",
    "model.fit(X_train_scaled, y_train)\n",
    "preds = model.predict(X_test_scaled)\n",
    "print(pd.Series(preds).value_counts())\n",
    "\n",
    "# Save model and scaler\n",
    "joblib.dump(model, \"credit_score_model.pkl\")\n",
    "joblib.dump(scaler, \"scaler.pkl\")\n",
    "\n",
    "print(\"✅ Model and scaler saved successfully!\")\n"
   ]
  },
  {
   "cell_type": "code",
   "execution_count": null,
   "id": "94293ff3-8360-4769-92f4-ea1b12aaac29",
   "metadata": {},
   "outputs": [],
   "source": []
  }
 ],
 "metadata": {
  "kernelspec": {
   "display_name": "Python 3 (ipykernel)",
   "language": "python",
   "name": "python3"
  },
  "language_info": {
   "codemirror_mode": {
    "name": "ipython",
    "version": 3
   },
   "file_extension": ".py",
   "mimetype": "text/x-python",
   "name": "python",
   "nbconvert_exporter": "python",
   "pygments_lexer": "ipython3",
   "version": "3.12.1"
  }
 },
 "nbformat": 4,
 "nbformat_minor": 5
}
